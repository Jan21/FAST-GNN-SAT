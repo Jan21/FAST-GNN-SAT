{
 "cells": [
  {
   "cell_type": "code",
   "execution_count": 2,
   "metadata": {},
   "outputs": [],
   "source": [
    "import os\n",
    "os.sys.path.append('..')\n",
    "\n",
    "import torch\n",
    "import torch.nn as nn\n",
    "import torch.nn.functional as F\n",
    "from models.model_utils import Pl_model_wrapper\n",
    "from models import models_with_args\n",
    "import numpy as np\n",
    "import random\n",
    "import time\n",
    "import pickle\n",
    "from torch_geometric.loader import DataLoader\n",
    "from datasets.cnf_data import Problem, Sat_datamodule, solve_sat, InMemorySATDataset\n",
    "from pytorch_lightning.callbacks.early_stopping import EarlyStopping\n",
    "from pytorch_lightning.loggers import TensorBoardLogger\n",
    "import pytorch_lightning as pl\n",
    "import tqdm\n"
   ]
  },
  {
   "cell_type": "code",
   "execution_count": 3,
   "metadata": {},
   "outputs": [
    {
     "name": "stderr",
     "output_type": "stream",
     "text": [
      "/home/jan/miniconda3/envs/torch18/lib/python3.7/site-packages/pytorch_lightning/utilities/parsing.py:263: UserWarning: Attribute 'loss_fn' is an instance of `nn.Module` and is already saved during checkpointing. It is recommended to ignore them using `self.save_hyperparameters(ignore=['loss_fn'])`.\n",
      "  f\"Attribute {k!r} is an instance of `nn.Module` and is already saved during checkpointing.\"\n",
      "100%|██████████| 10001/10001 [00:00<00:00, 2944905.53it/s]\n"
     ]
    }
   ],
   "source": [
    "model_name = 'NeuroSAT'\n",
    "checkpoint = '../temp/tb_logs/Final/version_0/checkpoints/epoch=32-step=891.ckpt'\n",
    "data_path = '../temp/cnfs/selsam_3_40' \n",
    "num_iters = 1000\n",
    "model_class = models_with_args[model_name]\n",
    "loss_fn =  nn.BCEWithLogitsLoss()\n",
    "model = Pl_model_wrapper(model_class, \n",
    "                -1, \n",
    "                -1,\n",
    "                loss_fn,\n",
    "                return_embs=True)\n",
    "model = model.load_from_checkpoint(checkpoint)\n",
    "model.eval()\n",
    "\n",
    "folder_name = '../temp/cnfs/selsam_3_40/test/'\n",
    "d = model_class['model_args']['d']\n",
    "k = 20\n",
    "# iterate of all problems in the folder, only the filenames with .dimacs extension are considered\n",
    "\n",
    "def filter_files(folder_name,substr):\n",
    "    filtered = []\n",
    "    for file_name in tqdm.tqdm(os.listdir(folder_name)):\n",
    "        if file_name.endswith(\".dimacs\") and substr in file_name:\n",
    "            filtered.append(file_name)\n",
    "    return filtered\n",
    "filtered = filter_files(folder_name,\"0040\")"
   ]
  },
  {
   "cell_type": "code",
   "execution_count": 5,
   "metadata": {},
   "outputs": [],
   "source": [
    "# load processed_data\n",
    "with open('../temp/processed_data.pkl', 'rb') as f:\n",
    "    processed_data = pickle.load(f)\n",
    "    "
   ]
  },
  {
   "cell_type": "code",
   "execution_count": 6,
   "metadata": {},
   "outputs": [
    {
     "name": "stderr",
     "output_type": "stream",
     "text": [
      "100%|██████████| 10000/10000 [02:14<00:00, 74.45it/s]\n"
     ]
    }
   ],
   "source": [
    "from models.decimation import get_labeled_embs_and_votes\n",
    "labeled_embs, num_wrong_clusterings, num_wrong_polarities, y_s = get_labeled_embs_and_votes(filtered, d, k, model, num_iters, folder_name,processed_data)"
   ]
  },
  {
   "cell_type": "code",
   "execution_count": 4,
   "metadata": {},
   "outputs": [
    {
     "name": "stderr",
     "output_type": "stream",
     "text": [
      "100%|██████████| 300/300 [20:29<00:00,  4.10s/it]\n"
     ]
    }
   ],
   "source": [
    "from models.decimation import get_processed_data\n",
    "processed_data = get_processed_data(filtered, d, k, model, num_iters, folder_name)"
   ]
  },
  {
   "cell_type": "code",
   "execution_count": 49,
   "metadata": {},
   "outputs": [],
   "source": [
    "with open('../temp/processed_data.pkl', 'wb') as f:\n",
    "    pickle.dump(processed_data, f)"
   ]
  },
  {
   "cell_type": "code",
   "execution_count": 7,
   "metadata": {},
   "outputs": [
    {
     "data": {
      "text/plain": [
       "{'0': array([ 0.20627211,  0.03753444, -0.8254269 ,  0.94784266, -0.983828  ,\n",
       "        -0.88671243, -0.91700083, -0.7195621 , -0.88072336, -0.9889268 ,\n",
       "        -0.5877774 ,  0.9894349 ,  0.8523017 ,  0.69306135,  0.33591676,\n",
       "        -0.73783845], dtype=float32),\n",
       " '1': array([-0.73830324,  0.03916041,  0.985295  , -0.71327347, -0.93077284,\n",
       "         0.04568193, -0.64079416,  0.08947714, -0.92044157, -0.9001533 ,\n",
       "        -0.9046818 ,  0.97906196, -0.02665108, -0.13030623,  0.8883731 ,\n",
       "        -0.20505264], dtype=float32)}"
      ]
     },
     "execution_count": 7,
     "metadata": {},
     "output_type": "execute_result"
    }
   ],
   "source": [
    "# load cluster centers from pickle\n",
    "with open('../temp/cluster_centers.pkl', 'rb') as f:\n",
    "    cluster_centers = pickle.load(f)\n",
    "cluster_centers"
   ]
  },
  {
   "cell_type": "code",
   "execution_count": 7,
   "metadata": {},
   "outputs": [],
   "source": [
    "from models.decimation import get_assignments_from_embs\n",
    "assignments = get_assignments_from_embs(processed_data,cluster_centers)"
   ]
  },
  {
   "cell_type": "code",
   "execution_count": 8,
   "metadata": {},
   "outputs": [],
   "source": [
    "from models.decimation import try_assignments_and_return_not_solved\n",
    "not_solved,sat_assignments = try_assignments_and_return_not_solved(assignments)"
   ]
  },
  {
   "cell_type": "code",
   "execution_count": 16,
   "metadata": {},
   "outputs": [
    {
     "data": {
      "text/plain": [
       "13"
      ]
     },
     "execution_count": 16,
     "metadata": {},
     "output_type": "execute_result"
    }
   ],
   "source": [
    "len(not_solved)"
   ]
  },
  {
   "cell_type": "code",
   "execution_count": 10,
   "metadata": {},
   "outputs": [
    {
     "data": {
      "text/plain": [
       "0.9566666666666667"
      ]
     },
     "execution_count": 10,
     "metadata": {},
     "output_type": "execute_result"
    }
   ],
   "source": [
    "287/len(assignments)"
   ]
  },
  {
   "cell_type": "code",
   "execution_count": 52,
   "metadata": {},
   "outputs": [
    {
     "data": {
      "text/plain": [
       "0.8688"
      ]
     },
     "execution_count": 52,
     "metadata": {},
     "output_type": "execute_result"
    }
   ],
   "source": [
    "4344/5000"
   ]
  },
  {
   "cell_type": "code",
   "execution_count": 53,
   "metadata": {},
   "outputs": [
    {
     "data": {
      "text/plain": [
       "43.5"
      ]
     },
     "execution_count": 53,
     "metadata": {},
     "output_type": "execute_result"
    }
   ],
   "source": [
    "50/100*87"
   ]
  },
  {
   "cell_type": "code",
   "execution_count": 15,
   "metadata": {},
   "outputs": [
    {
     "data": {
      "image/png": "[encoded data removed]",
      "text/plain": [
       "<Figure size 432x288 with 1 Axes>"
      ]
     },
     "metadata": {
      "needs_background": "light"
     },
     "output_type": "display_data"
    }
   ],
   "source": [
    "all_dists = []\n",
    "for pr in not_solved:\n",
    "    clauses = pr['clauses']\n",
    "    assignments = pr['assignments']\n",
    "    for assignment in assignments:\n",
    "        dists = assignment[1]\n",
    "        bools = assignment[0]\n",
    "        all_dists.extend(dists)\n",
    "        \n",
    "import matplotlib.pyplot as plt\n",
    "plt.hist(all_dists, bins=200)\n",
    "plt.show()"
   ]
  },
  {
   "cell_type": "code",
   "execution_count": 14,
   "metadata": {},
   "outputs": [
    {
     "name": "stdout",
     "output_type": "stream",
     "text": [
      "152\n",
      "0\n",
      "2\n"
     ]
    }
   ],
   "source": [
    "from models.decimation import decimate, get_new_problems_from_decimation\n",
    "\n",
    "\n",
    "\n",
    "dec_thresh = 1.9\n",
    "solved_by_decimation = 0\n",
    "nothing_was_decimated = 0\n",
    "#unsuccessful_decimation = 0\n",
    "new_problems = []\n",
    "for pr in not_solved:\n",
    "    new_problems_per_formula,was_decimated,is_sat = get_new_problems_from_decimation(pr,dec_thresh)\n",
    "    if len(new_problems_per_formula)>0:\n",
    "        new_problems.append(new_problems_per_formula)\n",
    "    if not was_decimated:\n",
    "        nothing_was_decimated+=1\n",
    "\n",
    "    \n",
    "print(solved_by_decimation)\n",
    "print(nothing_was_decimated)\n",
    "#print(unsuccessful_decimation)\n"
   ]
  },
  {
   "cell_type": "code",
   "execution_count": 14,
   "metadata": {},
   "outputs": [],
   "source": [
    "# save new problems\n",
    "with open('../temp/new_problems.pkl', 'wb') as f:\n",
    "    pickle.dump(new_problems, f)"
   ]
  },
  {
   "cell_type": "code",
   "execution_count": 22,
   "metadata": {},
   "outputs": [],
   "source": [
    "# load new problems\n",
    "with open('../temp/new_problems.pkl', 'rb') as f:\n",
    "    new_problems = pickle.load(f)"
   ]
  },
  {
   "cell_type": "code",
   "execution_count": 28,
   "metadata": {},
   "outputs": [
    {
     "data": {
      "text/plain": [
       "0.9468"
      ]
     },
     "execution_count": 28,
     "metadata": {},
     "output_type": "execute_result"
    }
   ],
   "source": [
    "(4344+17+373)/5000"
   ]
  },
  {
   "cell_type": "code",
   "execution_count": 29,
   "metadata": {},
   "outputs": [
    {
     "data": {
      "text/plain": [
       "47.35"
      ]
     },
     "execution_count": 29,
     "metadata": {},
     "output_type": "execute_result"
    }
   ],
   "source": [
    "50/100*94.7"
   ]
  },
  {
   "cell_type": "code",
   "execution_count": 23,
   "metadata": {},
   "outputs": [
    {
     "name": "stderr",
     "output_type": "stream",
     "text": [
      "100%|██████████| 553/553 [26:08<00:00,  2.84s/it]\n"
     ]
    }
   ],
   "source": [
    "from models.decimation import create_problem, process_one\n",
    "def process_decimated(n_vars, clauses, d, k, model, num_iters):\n",
    "    p,y = create_problem(n_vars, clauses, d, k)\n",
    "    avg_votes = model.model(p,num_iters).detach()\n",
    "    pred_binary = torch.sigmoid(avg_votes.squeeze()) >= 0.5\n",
    "    majority = torch.mode(pred_binary).values.numpy()\n",
    "    return majority\n",
    "\n",
    "y_hats = []\n",
    "\n",
    "model.model.return_embs = True\n",
    "model.eval()\n",
    "\n",
    "num_iters = 100\n",
    "new_data = []\n",
    "for multiple_decims in tqdm.tqdm(new_problems):\n",
    "    formula_new_data = []\n",
    "    for pr in multiple_decims:\n",
    "        if pr['num_vars']==0:\n",
    "            continue\n",
    "        num_vars,clauses = pr['num_vars'],pr['clauses']\n",
    "        res = process_one(num_vars, clauses, d, k, model, num_iters)\n",
    "        formula_new_data.append(res)\n",
    "    new_data.append(formula_new_data)\n"
   ]
  },
  {
   "cell_type": "code",
   "execution_count": 24,
   "metadata": {},
   "outputs": [
    {
     "data": {
      "text/plain": [
       "553"
      ]
     },
     "execution_count": 24,
     "metadata": {},
     "output_type": "execute_result"
    }
   ],
   "source": [
    "len(new_data)"
   ]
  },
  {
   "cell_type": "code",
   "execution_count": 43,
   "metadata": {},
   "outputs": [],
   "source": [
    "with open('../temp/new_data_noncons.pkl', 'wb') as f:\n",
    "    pickle.dump(new_data, f)"
   ]
  },
  {
   "cell_type": "code",
   "execution_count": 25,
   "metadata": {},
   "outputs": [
    {
     "data": {
      "text/plain": [
       "373"
      ]
     },
     "execution_count": 25,
     "metadata": {},
     "output_type": "execute_result"
    }
   ],
   "source": [
    "double_check = []\n",
    "solved = 0\n",
    "for dat in new_data:\n",
    "    new_assignments = get_assignments_from_embs(dat,cluster_centers)\n",
    "    new_not_solved,new_sat_assignments = try_assignments_and_return_not_solved(new_assignments)\n",
    "    if len(new_sat_assignments)>0:\n",
    "        double_check.append(new_sat_assignments[0])\n",
    "        solved+=1\n",
    "solved"
   ]
  },
  {
   "cell_type": "code",
   "execution_count": 27,
   "metadata": {},
   "outputs": [
    {
     "data": {
      "text/plain": [
       "373"
      ]
     },
     "execution_count": 27,
     "metadata": {},
     "output_type": "execute_result"
    }
   ],
   "source": [
    "from models.decimation import check_sat_assignment\n",
    "passed = []\n",
    "for i in range(len(double_check)):\n",
    "    sol = double_check[0]['assignments'][0]\n",
    "    clauses = double_check[0]['clauses']\n",
    "    passed.append(check_sat_assignment(sol,clauses))\n",
    "sum(passed)"
   ]
  },
  {
   "cell_type": "code",
   "execution_count": 31,
   "metadata": {},
   "outputs": [
    {
     "name": "stderr",
     "output_type": "stream",
     "text": [
      "100%|██████████| 300/300 [00:17<00:00, 17.47it/s]\n"
     ]
    }
   ],
   "source": [
    "preds = []\n",
    "for file_name in tqdm.tqdm(filtered):\n",
    "        n_vars, clauses = InMemorySATDataset.parse_dimacs(None,folder_name+file_name)\n",
    "        p,y = create_problem(n_vars, clauses, d, k)\n",
    "        y_s.append(y)\n",
    "        votes = model.model(p,num_iters)\n",
    "        pred_binary = torch.sigmoid(votes.squeeze()) >= 0.5\n",
    "        # get majority vote\n",
    "        majority = torch.mode(pred_binary).values\n",
    "        preds.append(majority==y)"
   ]
  },
  {
   "cell_type": "code",
   "execution_count": 32,
   "metadata": {},
   "outputs": [
    {
     "data": {
      "text/plain": [
       "tensor(0.8800)"
      ]
     },
     "execution_count": 32,
     "metadata": {},
     "output_type": "execute_result"
    }
   ],
   "source": [
    "sum(preds)/len(preds)"
   ]
  },
  {
   "cell_type": "code",
   "execution_count": 24,
   "metadata": {},
   "outputs": [
    {
     "name": "stdout",
     "output_type": "stream",
     "text": [
      "number of wrong clusterings: 76 out of which 54 were SAT\n",
      "number of wrong polarities: 174  out of which 116 were SAT\n",
      "percentage of SAT problems solved 0.8102\n"
     ]
    }
   ],
   "source": [
    "print(f\"number of wrong clusterings: {len(num_wrong_clusterings)} out of which {sum(num_wrong_clusterings)} were SAT\")\n",
    "print(f\"number of wrong polarities: {len(num_wrong_polarities)}  out of which {sum(num_wrong_polarities)} were SAT\")\n",
    "print(\"percentage of SAT problems solved\", (len(labeled_embs))/sum(y_s))"
   ]
  },
  {
   "cell_type": "code",
   "execution_count": 7,
   "metadata": {},
   "outputs": [],
   "source": [
    "# save the labeled embeddings to pickle\n",
    "import pickle\n",
    "with open('../temp/labeled_embs.pkl', 'wb') as f:\n",
    "    pickle.dump(labeled_embs, f)"
   ]
  },
  {
   "cell_type": "code",
   "execution_count": 3,
   "metadata": {},
   "outputs": [
    {
     "ename": "EOFError",
     "evalue": "Ran out of input",
     "output_type": "error",
     "traceback": [
      "\u001b[0;31m---------------------------------------------------------------------------\u001b[0m",
      "\u001b[0;31mEOFError\u001b[0m                                  Traceback (most recent call last)",
      "\u001b[0;32m/tmp/ipykernel_3418927/2267127173.py\u001b[0m in \u001b[0;36m<module>\u001b[0;34m\u001b[0m\n\u001b[1;32m      1\u001b[0m \u001b[0;31m# load the labeled embeddings from pickle\u001b[0m\u001b[0;34m\u001b[0m\u001b[0;34m\u001b[0m\u001b[0;34m\u001b[0m\u001b[0m\n\u001b[1;32m      2\u001b[0m \u001b[0;32mwith\u001b[0m \u001b[0mopen\u001b[0m\u001b[0;34m(\u001b[0m\u001b[0;34m'../temp/labeled_embs.pkl'\u001b[0m\u001b[0;34m,\u001b[0m \u001b[0;34m'rb'\u001b[0m\u001b[0;34m)\u001b[0m \u001b[0;32mas\u001b[0m \u001b[0mf\u001b[0m\u001b[0;34m:\u001b[0m\u001b[0;34m\u001b[0m\u001b[0;34m\u001b[0m\u001b[0m\n\u001b[0;32m----> 3\u001b[0;31m     \u001b[0mlabeled_embs\u001b[0m \u001b[0;34m=\u001b[0m \u001b[0mpickle\u001b[0m\u001b[0;34m.\u001b[0m\u001b[0mload\u001b[0m\u001b[0;34m(\u001b[0m\u001b[0mf\u001b[0m\u001b[0;34m)\u001b[0m\u001b[0;34m\u001b[0m\u001b[0;34m\u001b[0m\u001b[0m\n\u001b[0m",
      "\u001b[0;31mEOFError\u001b[0m: Ran out of input"
     ]
    }
   ],
   "source": [
    "# load the labeled embeddings from pickle\n",
    "with open('../temp/labeled_embs.pkl', 'rb') as f:\n",
    "    labeled_embs = pickle.load(f)"
   ]
  },
  {
   "cell_type": "code",
   "execution_count": 6,
   "metadata": {},
   "outputs": [
    {
     "data": {
      "text/plain": [
       "3825"
      ]
     },
     "execution_count": 6,
     "metadata": {},
     "output_type": "execute_result"
    }
   ],
   "source": [
    "len(labeled_embs)"
   ]
  },
  {
   "cell_type": "code",
   "execution_count": 9,
   "metadata": {},
   "outputs": [],
   "source": [
    "from sklearn.cluster import KMeans\n",
    "from sklearn.metrics import silhouette_score\n",
    "\n",
    "means_0 = []\n",
    "means_1 = []\n",
    "for pr in labeled_embs:\n",
    "    means_0.append(np.mean(pr[1]['0'],axis=0))\n",
    "    means_1.append(np.mean(pr[1]['1'],axis=0))\n",
    "means_all = means_0+means_1\n",
    "# KMeans clustering\n",
    "clusterer = KMeans(n_clusters=2, random_state=10)\n",
    "cluster_labels = clusterer.fit_predict(means_all)\n",
    "silhouette_avg = silhouette_score(means_all, cluster_labels)"
   ]
  },
  {
   "cell_type": "code",
   "execution_count": 10,
   "metadata": {},
   "outputs": [],
   "source": [
    "from models.decimation import group_clusters\n",
    "groups = group_clusters(means_all, cluster_labels)\n",
    "zero_centers = np.mean(groups['0'],axis=0)\n",
    "ones_centers = np.mean(groups['1'],axis=0)\n",
    "cluster_centers = {'0':zero_centers, '1':ones_centers}\n",
    "# save cluster centers to pickle\n",
    "with open('../temp/cluster_centers.pkl', 'wb') as f:\n",
    "    pickle.dump(cluster_centers, f)"
   ]
  },
  {
   "cell_type": "code",
   "execution_count": 13,
   "metadata": {},
   "outputs": [
    {
     "name": "stdout",
     "output_type": "stream",
     "text": [
      "cosine distance between the two centers [[0.615767]]\n",
      "euclidean distance between the two centers 3.2709422\n"
     ]
    }
   ],
   "source": [
    "# cosine distance between the two centers\n",
    "# import cosine distance\n",
    "from sklearn.metrics.pairwise import cosine_distances\n",
    "cos_dis = cosine_distances([zero_centers], [ones_centers])\n",
    "print('cosine distance between the two centers', cos_dis)\n",
    "# euclidean distance between the two centers\n",
    "eucl_dis = np.linalg.norm(zero_centers-ones_centers)\n",
    "print('euclidean distance between the two centers', eucl_dis)"
   ]
  },
  {
   "cell_type": "code",
   "execution_count": 22,
   "metadata": {},
   "outputs": [
    {
     "data": {
      "image/png": "[encoded data removed]",
      "text/plain": [
       "<Figure size 1080x216 with 1 Axes>"
      ]
     },
     "metadata": {
      "needs_background": "light"
     },
     "output_type": "display_data"
    },
    {
     "data": {
      "text/plain": [
       "<Figure size 1080x216 with 0 Axes>"
      ]
     },
     "metadata": {},
     "output_type": "display_data"
    }
   ],
   "source": [
    "embs_0 = []\n",
    "embs_1 = []\n",
    "for pr in labeled_embs:\n",
    "    embs_0 += pr[1]['0']\n",
    "    embs_1 += pr[1]['1']\n",
    "\n",
    "zero_lit_to_zero_center = []\n",
    "zero_lit_to_one_center = []\n",
    "one_lit_to_zero_center = []\n",
    "one_lit_to_one_center = []\n",
    "correctly_assisted_0 = 0\n",
    "incorrectly_assisted_0 = 0\n",
    "correctly_assisted_1 = 0\n",
    "incorrectly_assisted_1 = 0\n",
    "for i,emb in enumerate(embs_0):\n",
    "    zero_to_zero_dist = np.linalg.norm(emb-zero_centers)\n",
    "    zero_to_one_dist = np.linalg.norm(emb-ones_centers)\n",
    "    zero_lit_to_zero_center.append(zero_to_zero_dist)\n",
    "    zero_lit_to_one_center.append(zero_to_one_dist)\n",
    "    if zero_to_zero_dist < zero_to_one_dist:\n",
    "        correctly_assisted_0 += 1\n",
    "    else:\n",
    "        incorrectly_assisted_0 += 1\n",
    "for i,emb in enumerate(embs_1):\n",
    "    one_to_zero_dist = np.linalg.norm(emb-zero_centers)\n",
    "    one_to_one_dist = np.linalg.norm(emb-ones_centers)\n",
    "    one_lit_to_zero_center.append(one_to_zero_dist)\n",
    "    one_lit_to_one_center.append(one_to_one_dist)\n",
    "    if one_to_one_dist < one_to_zero_dist:\n",
    "        correctly_assisted_1 += 1\n",
    "    else:\n",
    "        incorrectly_assisted_1 += 1\n",
    "\n",
    "# plot histogram of distances\n",
    "import matplotlib.pyplot as plt\n",
    "# set the size of the image to be larger\n",
    "plt.rcParams[\"figure.figsize\"] = (15,3)\n",
    "plt.rcParams.update({'font.size': 20})\n",
    "\n",
    "plt.hist(zero_lit_to_zero_center, bins=200, alpha=0.5, label='0 to 0 center')\n",
    "plt.hist(zero_lit_to_one_center, bins=200, alpha=0.5, label='0 to 1 center')\n",
    "plt.hist(one_lit_to_zero_center, bins=200, alpha=0.5, label='1 to 0 center')\n",
    "plt.hist(one_lit_to_one_center, bins=200, alpha=0.5, label='1 to 1 center')\n",
    "plt.legend(loc='upper right')\n",
    "# enlarge the font size\n",
    "plt.show()\n",
    "# save pdf\n",
    "plt.savefig('../visualizations/histogram.pdf')"
   ]
  },
  {
   "cell_type": "code",
   "execution_count": 53,
   "metadata": {},
   "outputs": [
    {
     "name": "stdout",
     "output_type": "stream",
     "text": [
      "incorect 0: 17\n",
      "correct 0: 152023\n",
      "incorect 1: 3\n",
      "correct 1: 152037\n"
     ]
    }
   ],
   "source": [
    "print('incorect 0:',incorrectly_assisted_0)\n",
    "print('correct 0:',correctly_assisted_0)\n",
    "print('incorect 1:',incorrectly_assisted_1)\n",
    "print('correct 1:',correctly_assisted_1)\n"
   ]
  },
  {
   "cell_type": "code",
   "execution_count": null,
   "metadata": {},
   "outputs": [],
   "source": []
  }
 ],
 "metadata": {
  "kernelspec": {
   "display_name": "torch18",
   "language": "python",
   "name": "python3"
  },
  "language_info": {
   "codemirror_mode": {
    "name": "ipython",
    "version": 3
   },
   "file_extension": ".py",
   "mimetype": "text/x-python",
   "name": "python",
   "nbconvert_exporter": "python",
   "pygments_lexer": "ipython3",
   "version": "3.7.10"
  },
  "orig_nbformat": 4
 },
 "nbformat": 4,
 "nbformat_minor": 2
}
